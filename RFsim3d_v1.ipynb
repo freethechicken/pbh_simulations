{
  "nbformat": 4,
  "nbformat_minor": 0,
  "metadata": {
    "colab": {
      "provenance": [],
      "authorship_tag": "ABX9TyNx3hnSF7o4o+jE0ZiE5h5v",
      "include_colab_link": true
    },
    "kernelspec": {
      "name": "python3",
      "display_name": "Python 3"
    },
    "language_info": {
      "name": "python"
    }
  },
  "cells": [
    {
      "cell_type": "markdown",
      "metadata": {
        "id": "view-in-github",
        "colab_type": "text"
      },
      "source": [
        "<a href=\"https://colab.research.google.com/github/freethechicken/pbh_simulations/blob/main/RFsim3d_v1.ipynb\" target=\"_parent\"><img src=\"https://colab.research.google.com/assets/colab-badge.svg\" alt=\"Open In Colab\"/></a>"
      ]
    },
    {
      "cell_type": "markdown",
      "source": [
        "# Explantions\n",
        "\n",
        "## 1. **Random Sampling (CPU)**:\n",
        "The full list of all possible sampling in numpy can be found in the following [link](https://numpy.org/doc/1.16/reference/routines.random.html).\n",
        "## 2. **GPU computation**:\n",
        "GPU computation of the random field is given by [Cupy](https://cupy.dev/).\n",
        "\n",
        "##  3. **Simulation of Gaussian Random Field**\n",
        "\n",
        "  - Generate the (normal distributed) white noise field $\\langle n(\\vec x) n(\\vec y) \\rangle \\propto \\delta^3(\\vec x, \\vec y)$.\n",
        "\n",
        "  - Perform Fast Fourier transform to obtain noise field of unit amplitude $\\langle n(\\vec k) n(-\\vec k) \\rangle = 1$\n",
        "\n",
        "  - Obtain the fourier ampltide by multiplying the white noise field with the\n",
        " power spectrum:\n",
        "$\\langle \\phi(\\vec k)\\phi(-\\vec k)\\rangle'=\\langle n(\\vec k) n(-\\vec k) \\rangle \\times P(k)$ for $P(k) \\equiv {A}{ \\lvert k \\rvert^{-d}}$.\n",
        "  - Inverse Fast Fourier transform to obtain the gaussian field.\n",
        "\n",
        "  - References: Gaussian Random Field is constructed out of [the following website](https://garrettgoon.com/gaussian-fields/).\n",
        "\n",
        "### **Parameters for Field Simulation:**\n",
        "\n",
        "- `amplitude`: amplitude of spectrum $A$\n",
        "- `k_power` : power law of the spectrum $d$\n",
        "- `pixel` : pixels, size of the plots\n",
        "- `mean` : mean of the gaussian distribution\n",
        "- `std_dev` : standard deviation of the gaussian distribution\n",
        "- `decay_rate` : decay rate of the exponential distribution\n",
        "- `expected_occurrences_rate ` : expected occurrences rate of the poisson distribution\n",
        "\n",
        "## 4. **Clustering Algorithm**\n",
        "### 4.1 **Density-based spatial clustering of applications with noise (DBSCAN)**:\n",
        "  This algorithm defines clusters as continuous regions of high density.\n",
        "  - For each instance, the algorithm counts the number of instances within a small distance ϵ (*epsilon*). This region is called the instance’s ϵ-neighborhood.\n",
        "  - If an instance has at least min_samples instances within its ϵ-neighborhood (includingitself), then it is considered a core instance. Core instances are those that are located in dense regions.\n",
        "  - All instances in the neighborhood of a core instance belong to the same cluster. This neighborhood may include other core instances; therefore, a long sequence of neighboring core instances forms a single cluster.\n",
        "  - Any instance that is not a core instance and does not have one in its neighborhood is considered an anomaly.\n",
        "\n",
        "### **Parameters**\n",
        "  - `eps` : distance parameter $ϵ$\n",
        "  - `min_samples` : Minimum amount of instasnces required in a $ϵ$ neighborhood\n",
        "  - `Cluster -1` : Instances that are not a core instance. Marked in black color.\n",
        "\n",
        "\n"
      ],
      "metadata": {
        "id": "F2T1xPaPvTOg"
      }
    },
    {
      "cell_type": "code",
      "source": [
        "# @title Import packages\n",
        "\n",
        "#import cupy as cp\n",
        "import numpy as np\n",
        "import matplotlib.pyplot as plt\n",
        "import gc\n",
        "\n",
        "from scipy.special import erf\n",
        "from sklearn.cluster import DBSCAN"
      ],
      "metadata": {
        "id": "W3spWDf1PcuQ"
      },
      "execution_count": 6,
      "outputs": []
    },
    {
      "cell_type": "markdown",
      "source": [
        "# 1. Define functions"
      ],
      "metadata": {
        "id": "PnMRDHNBNhRz"
      }
    },
    {
      "cell_type": "code",
      "source": [
        "# @title 1.2 Random field simulations\n",
        "\n",
        "def gpu_grf_3d(white_noise, pixel, z_pixel, amplitude, k_power):\n",
        "    # Transfer white noise to GPU\n",
        "    white_noise_gpu = cp.asarray(white_noise)\n",
        "\n",
        "    # 3D Fast Fourier transform of the white noise\n",
        "    fft_white_noise = cp.fft.fftn(white_noise_gpu)\n",
        "\n",
        "    # Generating FFT momentum\n",
        "    kx = cp.fft.fftfreq(pixel)*pixel\n",
        "    ky = cp.fft.fftfreq(pixel)*pixel\n",
        "    kz = cp.fft.fftfreq(z_pixel)*z_pixel\n",
        "\n",
        "    # Genearting FFT momentum 3D array\n",
        "    kx_grid, ky_grid, kz_grid = cp.meshgrid(kx, ky, kz)\n",
        "    # k_grid = np.meshgrid(kx, ky, kz)\n",
        "\n",
        "    # Norm of k\n",
        "    k_norm =  cp.sqrt( kx_grid**2 + ky_grid**2 + kz_grid**2 ) # k = sqrt( kx^2 + ky^2  + kz^2 )\n",
        "    k_norm[0][0] = cp.inf # Regularize divergence at k=0\n",
        "\n",
        "    # Power Spectrum P_k\n",
        "    power_spectrum = amplitude*(((2 * cp.pi/pixel)*k_norm)**(-1*k_power))  # P(k)=amplitude/k^{power},\n",
        "\n",
        "    # Multiply the power spectrum with the transformed white noise to get the realization of the spectrum\n",
        "    fourier_amplitudes_sqrt = cp.sqrt(power_spectrum)*fft_white_noise\n",
        "\n",
        "\n",
        "    # Perform inverse Fourier transform to obtain the Gaussian random field in the spatial domain\n",
        "    gaussian_random_field = cp.fft.ifftn(fourier_amplitudes_sqrt).real\n",
        "\n",
        "    # Transfer the result back to CPU\n",
        "    gaussian_random_field = cp.asnumpy(gaussian_random_field)\n",
        "\n",
        "    return gaussian_random_field\n",
        "\n",
        "\n",
        "def grf_3d(mean, std_dev, pixel, z_pixel, amplitude, k_power):\n",
        "    # 3D Fast Fourier transform of the white noise\n",
        "    white_noise = np.random.normal(mean, std_dev, (pixel, pixel, z_pixel))\n",
        "    fft_white_noise = np.fft.fftn(white_noise)\n",
        "    del white_noise\n",
        "    gc.collect()\n",
        "\n",
        "    # Generating FFT momentum\n",
        "    kx = np.fft.fftfreq(pixel)*pixel\n",
        "    ky = np.fft.fftfreq(pixel)*pixel\n",
        "    kz = np.fft.fftfreq(z_pixel)*z_pixel\n",
        "\n",
        "    # Genearting FFT momentum 3D array\n",
        "    kx_grid, ky_grid, kz_grid = np.meshgrid(kx, ky, kz)\n",
        "    del kx, ky, kz\n",
        "    gc.collect()\n",
        "    # k_grid = np.meshgrid(kx, ky, kz)\n",
        "\n",
        "    # Norm of k\n",
        "    k_norm =  np.sqrt( kx_grid**2 + ky_grid**2 + kz_grid**2 ) # k = sqrt( kx^2 + ky^2  + kz^2 )\n",
        "    k_norm[0][0] = np.inf # Regularize divergence at k=0\n",
        "\n",
        "    # Power Spectrum P_k\n",
        "    power_spectrum = amplitude*(((2*np.pi/pixel)*k_norm)**(-1*k_power))  # P(k)=amplitude/k^{power},\n",
        "    del k_norm  # Free memory\n",
        "    gc.collect()\n",
        "\n",
        "    # Multiply the power spectrum with the transformed white noise to get the realization of the spectrum\n",
        "    fourier_amplitudes_sqrt = np.sqrt(power_spectrum, out=power_spectrum)*fft_white_noise\n",
        "    del power_spectrum, fft_white_noise  # Free memory\n",
        "    gc.collect()\n",
        "\n",
        "    # Perform inverse Fourier transform to obtain the Gaussian random field in the spatial domain\n",
        "    gaussian_random_field = np.fft.ifftn(fourier_amplitudes_sqrt).real\n",
        "    del fourier_amplitudes_sqrt  # Free memory\n",
        "    gc.collect()\n",
        "\n",
        "    return gaussian_random_field\n",
        "\n",
        "def gaussian_to_exp(x, lam):\n",
        "    mu = np.mean(x)\n",
        "    sigma = np.std(x)\n",
        "    xu = 0.5 * (1 + erf((x - mu) / (np.sqrt(2) * sigma)))\n",
        "    return -1/lam  * np.log(1 - xu)"
      ],
      "metadata": {
        "id": "I8PTXBDHrcHF"
      },
      "execution_count": 7,
      "outputs": []
    },
    {
      "cell_type": "code",
      "source": [
        "# @title 1.3 Plots figures\n",
        "\n",
        "def statistic_overview(exprf, n_sigma):\n",
        "\n",
        "    all_points_3d = exprf.flatten()\n",
        "    exprf_std_3d = np.std(all_points_3d)\n",
        "    exprf_mean_3d = np.mean(all_points_3d)\n",
        "    cutoff_3d = exprf_mean_3d + n_sigma*exprf_std_3d\n",
        "\n",
        "    plt.style.use('seaborn-darkgrid')\n",
        "    #print(f'Standard deviation = {exprf_std_3d:.2f}')\n",
        "    #print(f'Mean = {exprf_mean_3d:.2f}')\n",
        "    #print(f'Cutoff = {cutoff_3d:.2f}, i.e. {n_sigma} Sigmas from the mean at {exprf_mean_3d:.2f}')\n",
        "\n",
        "    plt.hist(all_points_3d, bins=100);\n",
        "    plt.yscale('log')\n",
        "    plt.xlabel('Field amplitude', fontsize=12)\n",
        "    plt.ylabel('Number of data points (Log)', fontsize=12)\n",
        "    plt.axvline(x=cutoff_3d, color='r', linestyle='-', label='Cutoff amplitude')\n",
        "\n",
        "    # Add text to the plot\n",
        "    textstr = f'Std. Dev. = {exprf_std_3d:.2f}\\nMean = {exprf_mean_3d:.2f}\\nCutoff = {cutoff_3d:.2f} ({n_sigma} Std. Dev. from mean)'\n",
        "    plt.text(0.05, 0.95, textstr, transform=plt.gca().transAxes, fontsize=10\n",
        "            , verticalalignment='top', bbox=dict(boxstyle='round', facecolor='wheat', alpha=0.5))\n",
        "\n",
        "    plt.title('Random Field Statistics', fontsize=14)\n",
        "    plt.legend(loc='upper right')\n",
        "    plt.grid(True, which='both', linestyle='--', linewidth=0.5)\n",
        "\n",
        "    del all_points_3d\n",
        "    gc.collect()\n",
        "    # Save the plot with text\n",
        "    plt.savefig('Statistic_info.pdf')\n",
        "    plt.show()\n",
        "\n",
        "    return cutoff_3d"
      ],
      "metadata": {
        "id": "_q072VQo9fId"
      },
      "execution_count": 13,
      "outputs": []
    },
    {
      "cell_type": "markdown",
      "source": [
        "# 2. **Main**"
      ],
      "metadata": {
        "id": "qEhHlZoqT0lw"
      }
    },
    {
      "cell_type": "code",
      "source": [
        "# @title Parameters\n",
        "amplitude = 1 # amplitude of the power spectrum\n",
        "k_power = 3 # power of k in the power spectrum\n",
        "\n",
        "# Define the size of the square grid\n",
        "pixel = 2**9  # 2^8 = 256\n",
        "z_pixel = pixel # Reduce ram usage\n",
        "#chunk_size = 2**8\n",
        "\n",
        "# Parameters for the normal distribution\n",
        "mean = 0      # Mean\n",
        "std_dev = 1   # Standard deviation\n",
        "# Parameters for exponential decay\n",
        "decay_rate = 1\n",
        "# Paratmer for cut-off\n",
        "cutoff_sigma = 12\n",
        "# 6-sigma of Gaussian(2*10E-9) ~ 18-sigmas of Exponential(5.6*10E-9)\n",
        "# Using 12 Sigma for testing"
      ],
      "metadata": {
        "id": "qyshvRIaO6Cg"
      },
      "execution_count": 9,
      "outputs": []
    },
    {
      "cell_type": "markdown",
      "source": [
        "## 2.2 3D Model"
      ],
      "metadata": {
        "id": "x6hR-hOw9uVT"
      }
    },
    {
      "cell_type": "code",
      "source": [
        "# @title Run 3D Model\n",
        "\n",
        "# Run 3D Model (GPU)\n",
        "#grf  = gpu_grf_3d(gaussian_white_noise_3d(pixel, z_pixel, mean, std_dev), pixel, z_pixel, amplitude, k_power)\n",
        "\n",
        "## Work flow\n",
        "\n",
        "# Run 3D Model (CPU)\n",
        "grf =  grf_3d( mean, std_dev, pixel, z_pixel, amplitude, k_power)\n",
        "\n",
        "# 1. Convert to exponential distribution\n",
        "exprf = gaussian_to_exp(grf, decay_rate)\n",
        "\n",
        "# 2. Delete Gaussiqn Field and summon trash can\n",
        "del grf\n",
        "gc.collect()\n",
        "\n",
        "# 3. Save the exponential field to npy format\n",
        "np.save('exponential_field.npy', exprf)\n",
        "\n",
        "# 4. Save the field statistic to pdf format, return threshold values\n",
        "cutoff_3d = statistic_overview(exprf, cutoff_sigma )\n",
        "\n",
        "# 5. Save mask for positions where amplitude exceed threshold, delete exprf\n",
        "mask = np.abs(exprf) > cutoff_3d\n",
        "np.save('mask.npy', mask)\n",
        "\n",
        "del exprf\n",
        "gc.collect()\n",
        "\n",
        "# 6. Save the positions where amplitude exceed threshold\n",
        "positions = np.argwhere(mask)\n",
        "np.save('mask_positions.npy', positions)"
      ],
      "metadata": {
        "id": "_GZrzO5tpuRZ",
        "colab": {
          "base_uri": "https://localhost:8080/",
          "height": 523
        },
        "outputId": "85a80b35-1897-4721-8b92-85fa81673806"
      },
      "execution_count": 14,
      "outputs": [
        {
          "output_type": "stream",
          "name": "stderr",
          "text": [
            "<ipython-input-13-f23409e0b3f5>:10: MatplotlibDeprecationWarning: The seaborn styles shipped by Matplotlib are deprecated since 3.6, as they no longer correspond to the styles shipped by seaborn. However, they will remain available as 'seaborn-v0_8-<style>'. Alternatively, directly use the seaborn API instead.\n",
            "  plt.style.use('seaborn-darkgrid')\n"
          ]
        },
        {
          "output_type": "display_data",
          "data": {
            "text/plain": [
              "<Figure size 640x480 with 1 Axes>"
            ],
            "image/png": "[encoded data removed]"
          },
          "metadata": {}
        }
      ]
    },
    {
      "cell_type": "code",
      "source": [],
      "metadata": {
        "id": "sD1TxzEdJiZo"
      },
      "execution_count": null,
      "outputs": []
    }
  ]
}